{
 "cells": [
  {
   "cell_type": "code",
   "execution_count": 10,
   "id": "initial_id",
   "metadata": {
    "ExecuteTime": {
     "end_time": "2024-02-04T12:04:38.786648100Z",
     "start_time": "2024-02-04T12:04:38.009333900Z"
    }
   },
   "outputs": [
    {
     "data": {
      "application/vnd.jupyter.widget-view+json": {
       "model_id": "716e9cd8fcbf4d999d66a6e86a79da4d",
       "version_major": 2,
       "version_minor": 0
      },
      "text/plain": [
       "HBox(children=(VBox(children=(IntSlider(value=100, continuous_update=False, description='Loop 2:'), IntSlider(…"
      ]
     },
     "execution_count": 10,
     "metadata": {},
     "output_type": "execute_result"
    }
   ],
   "source": [
    "import plotly.graph_objects as go\n",
    "import ipywidgets as widgets \n",
    "\n",
    "output = widgets.Output()\n",
    "\n",
    "x_slider = widgets.IntSlider(\n",
    "    value=100,\n",
    "    min=0,\n",
    "    max=100,\n",
    "    step=1,\n",
    "    description='Loop 2:',\n",
    "    disabled=False,\n",
    "    continuous_update=False,\n",
    "    orientation='horizontal',\n",
    "    readout=True,\n",
    "    readout_format='d',\n",
    ")\n",
    "\n",
    "y_slider = widgets.IntSlider(\n",
    "    value=100,\n",
    "    min=0,\n",
    "    max=100,\n",
    "    step=1,\n",
    "    description='Loop 2:',\n",
    "    disabled=False,\n",
    "    continuous_update=False,\n",
    "    orientation='horizontal',\n",
    "    readout=True,\n",
    "    readout_format='d',\n",
    ")\n",
    "\n",
    "z_slider = widgets.IntSlider(\n",
    "    value=100,\n",
    "    min=0,\n",
    "    max=100,\n",
    "    step=1,\n",
    "    description='Loop 3:',\n",
    "    disabled=False,\n",
    "    continuous_update=False,\n",
    "    orientation='horizontal',\n",
    "    readout=True,\n",
    "    readout_format='d',\n",
    ")\n",
    "\n",
    "def on_button_click(b):\n",
    "    output.clear_output()\n",
    "    with output:\n",
    "        x_values = []\n",
    "        y_values = []\n",
    "        z_values = []\n",
    "    \n",
    "        x_range = x_slider.value\n",
    "        y_range = y_slider.value\n",
    "        z_range = z_slider.value\n",
    "    \n",
    "        cutoff = min(x_range, y_range, z_range)\n",
    "        size = max(x_range, y_range, z_range)\n",
    "        \n",
    "        i, j, k = 1, 2, 3\n",
    "        \n",
    "        for i in range(1, x_range):\n",
    "            if i > y_range: \n",
    "                x_values.append(i)\n",
    "                y_values.append(0)\n",
    "                z_values.append(0)\n",
    "            for j in range(i+1, y_range):\n",
    "                if j > z_range:\n",
    "                    x_values.append(i)\n",
    "                    y_values.append(j)\n",
    "                    z_values.append(0)\n",
    "                for k in range(j+1, z_range):\n",
    "                    x_values.append(i)\n",
    "                    y_values.append(j)\n",
    "                    z_values.append(k)\n",
    "        \n",
    "        colors = ['red' if val > cutoff else 'blue' for val in y_values]\n",
    "        \n",
    "        fig= go.Figure(data=[go.Scatter3d(x=x_values, y=y_values, z=z_values, mode='markers', marker=dict(color=z_values, colorscale='viridis', size=2))])\n",
    "        \n",
    "        fig.update_layout(\n",
    "            scene = dict(\n",
    "                xaxis = dict(nticks=4, range=[0,size],),\n",
    "                yaxis = dict(nticks=4, range=[0,size],),\n",
    "                zaxis = dict(nticks=4, range=[0,size],), aspectmode='cube'),\n",
    "            width=700,\n",
    "            margin=dict(r=20, l=10, b=10, t=10))\n",
    "        fig.update_layout(scene=dict(xaxis_title='X', yaxis_title='Y', zaxis_title='Z'))\n",
    "        fig.show()\n",
    "        \n",
    "button = widgets.Button(description='Render')\n",
    "button.on_click(on_button_click)\n",
    "\n",
    "box = widgets.VBox([x_slider, y_slider, z_slider])\n",
    "widgets.HBox([box, button, output])"
   ]
  },
  {
   "cell_type": "code",
   "execution_count": null,
   "id": "1229f29179b900b5",
   "metadata": {
    "collapsed": false,
    "jupyter": {
     "outputs_hidden": false
    }
   },
   "outputs": [],
   "source": []
  }
 ],
 "metadata": {
  "kernelspec": {
   "display_name": "Python 3 (ipykernel)",
   "language": "python",
   "name": "python3"
  },
  "language_info": {
   "codemirror_mode": {
    "name": "ipython",
    "version": 3
   },
   "file_extension": ".py",
   "mimetype": "text/x-python",
   "name": "python",
   "nbconvert_exporter": "python",
   "pygments_lexer": "ipython3",
   "version": "3.12.1"
  }
 },
 "nbformat": 4,
 "nbformat_minor": 5
}
